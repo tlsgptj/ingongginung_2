{
  "nbformat": 4,
  "nbformat_minor": 0,
  "metadata": {
    "colab": {
      "private_outputs": true,
      "provenance": [],
      "authorship_tag": "ABX9TyN+q0M6mMQFhLfPaPpsNxwK",
      "include_colab_link": true
    },
    "kernelspec": {
      "name": "python3",
      "display_name": "Python 3"
    },
    "language_info": {
      "name": "python"
    }
  },
  "cells": [
    {
      "cell_type": "markdown",
      "metadata": {
        "id": "view-in-github",
        "colab_type": "text"
      },
      "source": [
        "<a href=\"https://colab.research.google.com/github/tlsgptj/ingongginung_2/blob/main/%EC%9D%B8%EA%B3%B5%EB%8A%A5%EC%A7%80_%EA%B8%B0%EB%A7%90%EA%B3%BC%EC%A0%9C.ipynb\" target=\"_parent\"><img src=\"https://colab.research.google.com/assets/colab-badge.svg\" alt=\"Open In Colab\"/></a>"
      ]
    },
    {
      "cell_type": "markdown",
      "source": [
        "(HW#2) 교재 13장 6절의 다층퍼셉트론 프로그램을 이용하여 UCI의 iris data(붓꽃데이터)를 분류하는 신경망을 완성하시오.\n",
        "\n",
        "★ 과제 1처럼 PDF 보고서 파일과 소스코드 파일을 제출해 주세요! (양식이 잘못된 경우 감점될 수 있습니다)\n",
        "\n",
        "★ 시스템상 파일 1개만 업로드되므로, 압축(zip)하여 올려주세요!\n",
        "\n",
        "★ 평가 기준 등은 과제 2 설명 동영상을 참고해 주세요!\n",
        "\n",
        "★ 소스코드 파일(mlp.py)로부터 시작하면 조금 더 편리합니다.\n",
        "\n",
        "\n",
        "\n",
        "\n",
        "\n",
        "- 입력층 노드수: 4\n",
        "\n",
        "- 은닉층 노드수: 5\n",
        "\n",
        "- 출력층 노드수: 3\n",
        "\n",
        "\n",
        "\n",
        "(1) sklearn 라이브러리 활용하여 붓꽃데이터 읽어들임 - datasets.load_iris()\n",
        "\n",
        "(2) iris data에는 붓꽃샘플이 3가지 클래스 각각에 대해 50개씩, 총 150개의 샘플이 포함되어 있음\n",
        "\n",
        "(3) 각각의 샘플은 4개의 실수값으로 구성된 4차원 벡터\n",
        "\n",
        "(4) iris data를 훈련용 120개, 테스트용 30개로 구분하여 사용하고, 훈련데이터에 대한 학습결과와 테스트용 데이터 30개에 대한 분류성능 측정\n",
        "\n",
        "(5) 신경망의 은닉층 및 출력층 노드에서는 바이어스(bias)를 사용하고, 활성화함수로 sigmoid 함수를 사용\n",
        "\n",
        "(6) BP알고리즘에서 최대 epoch는 50회, 학습율은 0.01을 사용\n",
        "\n",
        "(7) 다층퍼셉트론 신경망에 대한 훈련의 결과로 얻어진 모든 weight와 bias 값을 출력 (random하게 초기화)\n",
        "\n",
        "(8) Python 소스코드와 학습결과에 대한 분석을 정리하여 리포트로 제출"
      ],
      "metadata": {
        "id": "Jhj9dlES2Bub"
      }
    },
    {
      "cell_type": "code",
      "execution_count": null,
      "metadata": {
        "id": "MLUa64JQ1V8s"
      },
      "outputs": [],
      "source": [
        "from sklearn.datasets import load_iris"
      ]
    },
    {
      "cell_type": "code",
      "source": [
        "import pandas as pd\n",
        "#붓꽃 데이터 로드\n",
        "iris = load_iris()\n",
        "print(iris)"
      ],
      "metadata": {
        "id": "0Fyb-SB-2AtI"
      },
      "execution_count": null,
      "outputs": []
    },
    {
      "cell_type": "code",
      "source": [
        "iris_df = pd.DataFrame(data=iris.data, columns = iris.feature_names)\n",
        "iris_df['species'] = iris.target\n",
        "\n",
        "print(iris_df.head(20))"
      ],
      "metadata": {
        "id": "ruicwags27Zy"
      },
      "execution_count": null,
      "outputs": []
    },
    {
      "cell_type": "code",
      "source": [],
      "metadata": {
        "id": "1VIo_dYR3QFZ"
      },
      "execution_count": null,
      "outputs": []
    }
  ]
}